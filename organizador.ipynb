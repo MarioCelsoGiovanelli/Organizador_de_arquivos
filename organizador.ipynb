{
 "cells": [
  {
   "cell_type": "markdown",
   "metadata": {},
   "source": [
    "<h2 style=\"color: #37709F\">Organizador de Arquivos</h2>"
   ]
  },
  {
   "cell_type": "markdown",
   "metadata": {},
   "source": [
    "<h3 style=\"color: #2F666F\">Mudando de diretório</h3>"
   ]
  },
  {
   "cell_type": "code",
   "execution_count": 21,
   "metadata": {},
   "outputs": [],
   "source": [
    "import os"
   ]
  },
  {
   "cell_type": "markdown",
   "metadata": {},
   "source": [
    "- O \"r\" RAW string, para não confudir com quebra de linha \"\\n\""
   ]
  },
  {
   "cell_type": "code",
   "execution_count": 22,
   "metadata": {},
   "outputs": [],
   "source": [
    "os.chdir(r\"C:\\Users\\mcels\\Downloads\\arquivos\")"
   ]
  },
  {
   "cell_type": "code",
   "execution_count": 23,
   "metadata": {},
   "outputs": [
    {
     "data": {
      "text/plain": [
       "'C:\\\\Users\\\\mcels\\\\Downloads\\\\arquivos'"
      ]
     },
     "execution_count": 23,
     "metadata": {},
     "output_type": "execute_result"
    }
   ],
   "source": [
    "os.getcwd()"
   ]
  },
  {
   "cell_type": "markdown",
   "metadata": {},
   "source": [
    "<h3 style=\"color: #2F666F\">Listando os arquivos</h3>"
   ]
  },
  {
   "cell_type": "code",
   "execution_count": 24,
   "metadata": {},
   "outputs": [
    {
     "data": {
      "text/plain": [
       "['apresentação do microsoft powerpoint01.pptx',\n",
       " 'apresentação do microsoft powerpoint02.pptx',\n",
       " 'documento de texto01.txt',\n",
       " 'documento de texto02.txt.txt',\n",
       " 'filme01.mp4',\n",
       " 'filme02.mp4.mp4',\n",
       " 'microsoft access database01.accdb',\n",
       " 'microsoft access database02.accdb',\n",
       " 'microsoft publisher document.pub',\n",
       " 'microsoft publisher document01.pub',\n",
       " 'musica01.mp3',\n",
       " 'musicat02.mp3',\n",
       " 'novo documento rtf (2).rtf',\n",
       " 'novo documento rtf.rtf',\n",
       " 'planilha do microsoft excel01.xlsx',\n",
       " 'planilha do microsoft excel02.xlsx',\n",
       " 'script01.py',\n",
       " 'script02.py']"
      ]
     },
     "execution_count": 24,
     "metadata": {},
     "output_type": "execute_result"
    }
   ],
   "source": [
    "os.listdir()"
   ]
  },
  {
   "cell_type": "code",
   "execution_count": 25,
   "metadata": {},
   "outputs": [
    {
     "data": {
      "text/plain": [
       "['apresentação do microsoft powerpoint01.pptx',\n",
       " 'apresentação do microsoft powerpoint02.pptx',\n",
       " 'documento de texto01.txt',\n",
       " 'documento de texto02.txt.txt',\n",
       " 'filme01.mp4',\n",
       " 'filme02.mp4.mp4',\n",
       " 'microsoft access database01.accdb',\n",
       " 'microsoft access database02.accdb',\n",
       " 'microsoft publisher document.pub',\n",
       " 'microsoft publisher document01.pub',\n",
       " 'musica01.mp3',\n",
       " 'musicat02.mp3',\n",
       " 'novo documento rtf (2).rtf',\n",
       " 'novo documento rtf.rtf',\n",
       " 'planilha do microsoft excel01.xlsx',\n",
       " 'planilha do microsoft excel02.xlsx',\n",
       " 'script01.py',\n",
       " 'script02.py']"
      ]
     },
     "execution_count": 25,
     "metadata": {},
     "output_type": "execute_result"
    }
   ],
   "source": [
    "[arquivo for arquivo in os.listdir() if os.path.isfile(arquivo)]"
   ]
  },
  {
   "cell_type": "markdown",
   "metadata": {},
   "source": [
    "- Método *lower()* deixa todos arquivos com nome e extensões em minusculo."
   ]
  },
  {
   "cell_type": "code",
   "execution_count": 26,
   "metadata": {},
   "outputs": [],
   "source": [
    "lista_arquivos = [arquivo.lower() for arquivo in os.listdir() if os.path.isfile(arquivo)]"
   ]
  },
  {
   "cell_type": "code",
   "execution_count": 27,
   "metadata": {},
   "outputs": [
    {
     "data": {
      "text/plain": [
       "['apresentação do microsoft powerpoint01.pptx',\n",
       " 'apresentação do microsoft powerpoint02.pptx',\n",
       " 'documento de texto01.txt',\n",
       " 'documento de texto02.txt.txt',\n",
       " 'filme01.mp4',\n",
       " 'filme02.mp4.mp4',\n",
       " 'microsoft access database01.accdb',\n",
       " 'microsoft access database02.accdb',\n",
       " 'microsoft publisher document.pub',\n",
       " 'microsoft publisher document01.pub',\n",
       " 'musica01.mp3',\n",
       " 'musicat02.mp3',\n",
       " 'novo documento rtf (2).rtf',\n",
       " 'novo documento rtf.rtf',\n",
       " 'planilha do microsoft excel01.xlsx',\n",
       " 'planilha do microsoft excel02.xlsx',\n",
       " 'script01.py',\n",
       " 'script02.py']"
      ]
     },
     "execution_count": 27,
     "metadata": {},
     "output_type": "execute_result"
    }
   ],
   "source": [
    "lista_arquivos"
   ]
  },
  {
   "cell_type": "markdown",
   "metadata": {},
   "source": [
    "<h3 style=\"color: #2F666F\">Separando os arquivos por tipos de extensões</h3>"
   ]
  },
  {
   "cell_type": "code",
   "execution_count": 28,
   "metadata": {},
   "outputs": [
    {
     "data": {
      "text/plain": [
       "['pptx',\n",
       " 'pptx',\n",
       " 'txt',\n",
       " 'txt',\n",
       " 'mp4',\n",
       " 'mp4',\n",
       " 'accdb',\n",
       " 'accdb',\n",
       " 'pub',\n",
       " 'pub',\n",
       " 'mp3',\n",
       " 'mp3',\n",
       " 'rtf',\n",
       " 'rtf',\n",
       " 'xlsx',\n",
       " 'xlsx',\n",
       " 'py',\n",
       " 'py']"
      ]
     },
     "execution_count": 28,
     "metadata": {},
     "output_type": "execute_result"
    }
   ],
   "source": [
    "[tipo.split(\".\")[-1] for tipo in lista_arquivos]"
   ]
  },
  {
   "cell_type": "markdown",
   "metadata": {},
   "source": [
    "- Transformando em SET para não repetir os arquivos"
   ]
  },
  {
   "cell_type": "code",
   "execution_count": 29,
   "metadata": {},
   "outputs": [],
   "source": [
    "lista_tipos = {tipo.split(\".\")[-1] for tipo in lista_arquivos}"
   ]
  },
  {
   "cell_type": "code",
   "execution_count": 30,
   "metadata": {},
   "outputs": [
    {
     "data": {
      "text/plain": [
       "{'accdb', 'mp3', 'mp4', 'pptx', 'pub', 'py', 'rtf', 'txt', 'xlsx'}"
      ]
     },
     "execution_count": 30,
     "metadata": {},
     "output_type": "execute_result"
    }
   ],
   "source": [
    "lista_tipos"
   ]
  },
  {
   "cell_type": "markdown",
   "metadata": {},
   "source": [
    "<h3 style=\"color: #2F666F\">Criando uma pasta para cada tipo de extensão de arquivo</h3>"
   ]
  },
  {
   "cell_type": "code",
   "execution_count": 19,
   "metadata": {},
   "outputs": [],
   "source": [
    "for tipo in lista_tipos:\n",
    "    if os.path.exists(tipo):\n",
    "        pass\n",
    "    else:\n",
    "        os.mkdir(tipo)"
   ]
  },
  {
   "cell_type": "markdown",
   "metadata": {},
   "source": [
    "- Organiza os arquivos em suas respectivas pasta:"
   ]
  },
  {
   "cell_type": "code",
   "execution_count": 20,
   "metadata": {},
   "outputs": [],
   "source": [
    "for arquivo in lista_arquivos:\n",
    "    pasta_destino = arquivo.split(\".\")[-1]\n",
    "    de = os.path.join(os.getcwd(), arquivo)\n",
    "    para = os.path.join(os.getcwd(), pasta_destino, arquivo)\n",
    "    if os.path.exists(de):\n",
    "        os.replace(de, para)"
   ]
  }
 ],
 "metadata": {
  "kernelspec": {
   "display_name": "venv",
   "language": "python",
   "name": "python3"
  },
  "language_info": {
   "codemirror_mode": {
    "name": "ipython",
    "version": 3
   },
   "file_extension": ".py",
   "mimetype": "text/x-python",
   "name": "python",
   "nbconvert_exporter": "python",
   "pygments_lexer": "ipython3",
   "version": "3.11.7"
  }
 },
 "nbformat": 4,
 "nbformat_minor": 2
}
